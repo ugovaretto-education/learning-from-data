{
 "cells": [
  {
   "cell_type": "code",
   "execution_count": 2,
   "id": "58db6837-fb0b-4402-9d86-7151bfc7b96c",
   "metadata": {},
   "outputs": [],
   "source": [
    "import Pkg"
   ]
  },
  {
   "cell_type": "code",
   "execution_count": 21,
   "id": "d9d31221-2cb0-4d29-9551-bc79b3526763",
   "metadata": {},
   "outputs": [
    {
     "name": "stderr",
     "output_type": "stream",
     "text": [
      "\u001b[32m\u001b[1m   Resolving\u001b[22m\u001b[39m package versions...\n",
      "\u001b[32m\u001b[1m  No Changes\u001b[22m\u001b[39m to `~/.julia/environments/v1.10/Project.toml`\n",
      "\u001b[32m\u001b[1m  No Changes\u001b[22m\u001b[39m to `~/.julia/environments/v1.10/Manifest.toml`\n",
      "\u001b[32m\u001b[1m   Resolving\u001b[22m\u001b[39m package versions...\n",
      "\u001b[32m\u001b[1m  No Changes\u001b[22m\u001b[39m to `~/.julia/environments/v1.10/Project.toml`\n",
      "\u001b[32m\u001b[1m  No Changes\u001b[22m\u001b[39m to `~/.julia/environments/v1.10/Manifest.toml`\n",
      "\u001b[32m\u001b[1m   Resolving\u001b[22m\u001b[39m package versions...\n",
      "\u001b[32m\u001b[1m    Updating\u001b[22m\u001b[39m `~/.julia/environments/v1.10/Project.toml`\n",
      "  \u001b[90m[4e3cecfd] \u001b[39m\u001b[92m+ ImageShow v0.3.8\u001b[39m\n",
      "\u001b[32m\u001b[1m  No Changes\u001b[22m\u001b[39m to `~/.julia/environments/v1.10/Manifest.toml`\n"
     ]
    }
   ],
   "source": [
    "Pkg.add(\"Flux\")\n",
    "Pkg.add(\"ImageInTerminal\")\n",
    "Pkg.add(\"ImageShow\")"
   ]
  },
  {
   "cell_type": "code",
   "execution_count": 22,
   "id": "8be53067-5222-4d39-8847-41042a65c5a7",
   "metadata": {},
   "outputs": [],
   "source": [
    "using Flux, MLDatasets, ImageInTerminal, ImageShow"
   ]
  },
  {
   "cell_type": "code",
   "execution_count": 33,
   "id": "b1fcb3f0-0b78-4e1a-ac42-f90646deb4ab",
   "metadata": {},
   "outputs": [
    {
     "data": {
      "text/plain": [
       "Base.ReinterpretArray{ColorTypes.Gray{Float32}, 3, Float32, Array{Float32, 3}, true}"
      ]
     },
     "execution_count": 33,
     "metadata": {},
     "output_type": "execute_result"
    }
   ],
   "source": [
    "d = MNIST()\n",
    "i = convert2image(d, 1:1)\n",
    "x = i[1,1] + 1.0\n",
    "typeof(i)"
   ]
  },
  {
   "cell_type": "code",
   "execution_count": 34,
   "id": "bb32fcf2-a570-4186-9342-3afd312e08da",
   "metadata": {},
   "outputs": [
    {
     "name": "stdout",
     "output_type": "stream",
     "text": [
      "search: \u001b[0m\u001b[1mc\u001b[22m\u001b[0m\u001b[1mo\u001b[22m\u001b[0m\u001b[1mn\u001b[22m\u001b[0m\u001b[1mv\u001b[22m\u001b[0m\u001b[1me\u001b[22m\u001b[0m\u001b[1mr\u001b[22m\u001b[0m\u001b[1mt\u001b[22m\u001b[0m\u001b[1m2\u001b[22m\u001b[0m\u001b[1mi\u001b[22m\u001b[0m\u001b[1mm\u001b[22m\u001b[0m\u001b[1ma\u001b[22m\u001b[0m\u001b[1mg\u001b[22m\u001b[0m\u001b[1me\u001b[22m\n",
      "\n"
     ]
    },
    {
     "data": {
      "text/latex": [
       "\\begin{verbatim}\n",
       "convert2image(d, i)\n",
       "convert2image(d, x)\n",
       "convert2image(DType, x)\n",
       "\\end{verbatim}\n",
       "Convert the observation(s) \\texttt{i} from dataset \\texttt{d} to image(s). It can also convert a numerical array \\texttt{x}.\n",
       "\n",
       "In order to support a new dataset, e.g. \\texttt{MyDataset},  implement \\texttt{convert2image(::Type\\{MyDataset\\}, x::AbstractArray)}.\n",
       "\n",
       "\\section{Examples}\n",
       "\\begin{verbatim}\n",
       "julia> using MLDatasets, ImageInTerminal\n",
       "\n",
       "julia> d = MNIST()\n",
       "\n",
       "julia> convert2image(d, 1:2) \n",
       "# You should see 2 images in the terminal\n",
       "\n",
       "julia> x = d[1].features;\n",
       "\n",
       "julia> convert2image(MNIST, x) # or convert2image(d, x)\n",
       "\\end{verbatim}\n"
      ],
      "text/markdown": [
       "```\n",
       "convert2image(d, i)\n",
       "convert2image(d, x)\n",
       "convert2image(DType, x)\n",
       "```\n",
       "\n",
       "Convert the observation(s) `i` from dataset `d` to image(s). It can also convert a numerical array `x`.\n",
       "\n",
       "In order to support a new dataset, e.g. `MyDataset`,  implement `convert2image(::Type{MyDataset}, x::AbstractArray)`.\n",
       "\n",
       "# Examples\n",
       "\n",
       "```julia-repl\n",
       "julia> using MLDatasets, ImageInTerminal\n",
       "\n",
       "julia> d = MNIST()\n",
       "\n",
       "julia> convert2image(d, 1:2) \n",
       "# You should see 2 images in the terminal\n",
       "\n",
       "julia> x = d[1].features;\n",
       "\n",
       "julia> convert2image(MNIST, x) # or convert2image(d, x)\n",
       "```\n"
      ],
      "text/plain": [
       "\u001b[36m  convert2image(d, i)\u001b[39m\n",
       "\u001b[36m  convert2image(d, x)\u001b[39m\n",
       "\u001b[36m  convert2image(DType, x)\u001b[39m\n",
       "\n",
       "  Convert the observation(s) \u001b[36mi\u001b[39m from dataset \u001b[36md\u001b[39m to image(s). It can also convert\n",
       "  a numerical array \u001b[36mx\u001b[39m.\n",
       "\n",
       "  In order to support a new dataset, e.g. \u001b[36mMyDataset\u001b[39m, implement\n",
       "  \u001b[36mconvert2image(::Type{MyDataset}, x::AbstractArray)\u001b[39m.\n",
       "\n",
       "\u001b[1m  Examples\u001b[22m\n",
       "\u001b[1m  ≡≡≡≡≡≡≡≡\u001b[22m\n",
       "\n",
       "\u001b[36m  julia> using MLDatasets, ImageInTerminal\u001b[39m\n",
       "\u001b[36m  \u001b[39m\n",
       "\u001b[36m  julia> d = MNIST()\u001b[39m\n",
       "\u001b[36m  \u001b[39m\n",
       "\u001b[36m  julia> convert2image(d, 1:2) \u001b[39m\n",
       "\u001b[36m  # You should see 2 images in the terminal\u001b[39m\n",
       "\u001b[36m  \u001b[39m\n",
       "\u001b[36m  julia> x = d[1].features;\u001b[39m\n",
       "\u001b[36m  \u001b[39m\n",
       "\u001b[36m  julia> convert2image(MNIST, x) # or convert2image(d, x)\u001b[39m"
      ]
     },
     "execution_count": 34,
     "metadata": {},
     "output_type": "execute_result"
    }
   ],
   "source": [
    "?convert2image"
   ]
  },
  {
   "cell_type": "code",
   "execution_count": 37,
   "id": "d333a6da-de6f-4f81-bcdc-b9c1c6fc82f8",
   "metadata": {},
   "outputs": [
    {
     "ename": "LoadError",
     "evalue": "MethodError: no method matching Array(::Float64, ::Int64, ::Int64)\n\n\u001b[0mClosest candidates are:\n\u001b[0m  Array(\u001b[91m::LinearAlgebra.UniformScaling\u001b[39m, ::Integer, ::Integer)\n\u001b[0m\u001b[90m   @\u001b[39m \u001b[33mLinearAlgebra\u001b[39m \u001b[90m~/.julia/juliaup/julia-1.10.3+0.x64.linux.gnu/share/julia/stdlib/v1.10/LinearAlgebra/src/\u001b[39m\u001b[90m\u001b[4muniformscaling.jl:419\u001b[24m\u001b[39m\n",
     "output_type": "error",
     "traceback": [
      "MethodError: no method matching Array(::Float64, ::Int64, ::Int64)\n\n\u001b[0mClosest candidates are:\n\u001b[0m  Array(\u001b[91m::LinearAlgebra.UniformScaling\u001b[39m, ::Integer, ::Integer)\n\u001b[0m\u001b[90m   @\u001b[39m \u001b[33mLinearAlgebra\u001b[39m \u001b[90m~/.julia/juliaup/julia-1.10.3+0.x64.linux.gnu/share/julia/stdlib/v1.10/LinearAlgebra/src/\u001b[39m\u001b[90m\u001b[4muniformscaling.jl:419\u001b[24m\u001b[39m\n",
      "",
      "Stacktrace:",
      " [1] top-level scope",
      "   @ In[37]:1"
     ]
    }
   ],
   "source": [
    "a = Array(0.0,2,2)"
   ]
  }
 ],
 "metadata": {
  "kernelspec": {
   "display_name": "Julia 1.10.3",
   "language": "julia",
   "name": "julia-1.10"
  },
  "language_info": {
   "file_extension": ".jl",
   "mimetype": "application/julia",
   "name": "julia",
   "version": "1.10.3"
  }
 },
 "nbformat": 4,
 "nbformat_minor": 5
}
